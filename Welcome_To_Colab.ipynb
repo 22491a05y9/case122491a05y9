import matplotlib.pyplot as plt
import numpy as np
import pandas as pd
anil=pd.read_csv('energy.csv')
print(anil)
#line chart
# andhra, karnataka
srh=anil[anil['State']=='Andhra']
rcb=anil[anil['State']=='Karnataka']

\
fig,diag=plt.subplots(2)
#date, consumption
diag[0].plot(srh['Date'],srh['Consumption'],color='red')
diag[1].plot(rcb['Date'],rcb['Consumption'],color='yellow')

revanth=anil[anil['State']=='Telengana']
cm=anil[anil['State']=='Tripura']



fig,diag=plt.subplots(2)
diag[0].bar(revanth['Date'],revanth['Consumption'],color='red')
diag[1].bar(cm['Date'],cm['Consumption'],color='yellow')

#pie chart
state1='Delhi'
state2='Odisha'
state3='Up'
state4='Punjab'

cse5=[state1,state2]

cse4=anil[anil['State']==state1]['Consumption'].sum()
cse3=anil[anil['State']==state2]['Consumption'].sum()
cse2=[cse4,cse3]
fig,diag=plt.subplots(2)
diag[0].pie(cse2,labels=cse5,autopct='1%.1f%%')



cse5=[state3,state4]
cse4=anil[anil['State']==state3]['Consumption'].sum()
cse3=anil[anil['State']==state4]['Consumption'].sum()
cse2=[cse4,cse3]
diag[1].pie(cse2,labels=cse5,autopct='1%.1f%%')








